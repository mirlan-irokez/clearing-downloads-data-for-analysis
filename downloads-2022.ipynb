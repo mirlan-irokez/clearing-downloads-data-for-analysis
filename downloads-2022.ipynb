{
 "cells": [
  {
   "cell_type": "code",
   "execution_count": 1,
   "outputs": [],
   "source": [
    "import pandas as pd\n",
    "\n",
    "pd.set_option('max_colwidth', 1000)\n",
    "pd.set_option('display.max_rows', None)"
   ],
   "metadata": {
    "collapsed": false,
    "pycharm": {
     "name": "#%%\n"
    }
   }
  },
  {
   "cell_type": "code",
   "execution_count": 2,
   "outputs": [],
   "source": [
    "# open csv files\n",
    "# Google Play data\n",
    "df_gp = pd.read_csv('<Google-Play-downloads-file>.csv')\n",
    "# App Store data\n",
    "df_as = pd.read_csv('<App-Store-downloads-file>.csv')"
   ],
   "metadata": {
    "collapsed": false,
    "pycharm": {
     "name": "#%%\n"
    }
   }
  },
  {
   "cell_type": "code",
   "execution_count": null,
   "outputs": [],
   "source": [
    "# drop rows with index 0, 1, 2, 3 in dataframe df_as\n",
    "df_as.drop(df_as.index[[0, 1, 2, 3]], inplace=True)\n",
    "df_as = df_as.reset_index()\n",
    "# parse data to new column parsed before point\n",
    "df_as['<app-name>_parsed'] = df_as['<app-name>'].str.split('.').str[0]\n",
    "df_as"
   ],
   "metadata": {
    "collapsed": false,
    "pycharm": {
     "name": "#%%\n"
    }
   }
  },
  {
   "cell_type": "code",
   "execution_count": 10,
   "outputs": [],
   "source": [
    "# parse data in column with downloads and drop all symbols except numbers\n",
    "df_gp['User acquisition (New users, All events, Per interval, Daily): <Country>'] = df_gp['User acquisition (New users, All events, Per interval, Daily): <Country>'].str.replace('[^0-9]', '')"
   ],
   "metadata": {
    "collapsed": false,
    "pycharm": {
     "name": "#%%\n"
    }
   }
  },
  {
   "cell_type": "code",
   "execution_count": 12,
   "outputs": [],
   "source": [
    "# convert string 6/30/22 to date format YYYY-MM-DD\n",
    "df_as['date'] = pd.to_datetime(df_as['Name'], format='%m/%d/%y').reset_index(drop=True)\n",
    "\n",
    "# convert string Jan 01, 2022 to date format YYYY-MM-DD\n",
    "df_gp['date'] = pd.to_datetime(df_gp['Date'], format='%b %d, %Y')"
   ],
   "metadata": {
    "collapsed": false,
    "pycharm": {
     "name": "#%%\n"
    }
   }
  },
  {
   "cell_type": "code",
   "execution_count": 15,
   "outputs": [],
   "source": [
    "# rename columns in dataframes\n",
    "df_as.rename(columns={\n",
    "    '<app-name>_parsed': 'app_store_downloads'}, inplace=True)\n",
    "\n",
    "df_gp.rename(columns={\n",
    "    'User acquisition (New users, All events, Per interval, Daily): <Country>': 'google_play_downloads'}, inplace=True)\n",
    "\n",
    "# drop columns\n",
    "df_as.drop(columns=['Name', '<app-name>', 'index'], inplace=True)\n",
    "df_gp.drop(columns=['Date', 'Notes'], inplace=True)"
   ],
   "metadata": {
    "collapsed": false,
    "pycharm": {
     "name": "#%%\n"
    }
   }
  },
  {
   "cell_type": "code",
   "execution_count": 20,
   "outputs": [],
   "source": [
    "# Downloads\n",
    "# merge dataframes df_gp and df_as on date\n",
    "df_downloads = pd.merge(df_gp, df_as, on='date', how='outer')"
   ],
   "metadata": {
    "collapsed": false,
    "pycharm": {
     "name": "#%%\n"
    }
   }
  },
  {
   "cell_type": "code",
   "execution_count": 22,
   "outputs": [],
   "source": [
    "# convert column with strings to integer in dataframe df_downloads\n",
    "df_downloads['google_play_downloads'] = df_downloads['google_play_downloads'].astype(int)\n",
    "df_downloads['app_store_downloads'] = df_downloads['app_store_downloads'].astype(int)"
   ],
   "metadata": {
    "collapsed": false,
    "pycharm": {
     "name": "#%%\n"
    }
   }
  },
  {
   "cell_type": "code",
   "execution_count": null,
   "outputs": [],
   "source": [
    "df_downloads"
   ],
   "metadata": {
    "collapsed": false,
    "pycharm": {
     "name": "#%%\n"
    }
   }
  },
  {
   "cell_type": "code",
   "execution_count": 27,
   "outputs": [],
   "source": [
    "# take date column and create new column with date format YYYY-MM\n",
    "df_downloads['date_month'] = df_downloads['date'].dt.strftime('%Y-%m')"
   ],
   "metadata": {
    "collapsed": false,
    "pycharm": {
     "name": "#%%\n"
    }
   }
  },
  {
   "cell_type": "code",
   "execution_count": 29,
   "outputs": [],
   "source": [
    "df_downloads_by_month = df_downloads.groupby(['date_month']).agg({'google_play_downloads': 'sum', 'app_store_downloads': 'sum'}).reset_index()"
   ],
   "metadata": {
    "collapsed": false,
    "pycharm": {
     "name": "#%%\n"
    }
   }
  },
  {
   "cell_type": "code",
   "execution_count": 31,
   "outputs": [],
   "source": [
    "# export to csv file\n",
    "df_downloads_by_month.to_csv('df_downloads_by_month.csv', index=True)\n",
    "df_downloads.to_csv('df_downloads_by_days.csv', index=True)"
   ],
   "metadata": {
    "collapsed": false,
    "pycharm": {
     "name": "#%%\n"
    }
   }
  }
 ],
 "metadata": {
  "kernelspec": {
   "display_name": "Python 3",
   "language": "python",
   "name": "python3"
  },
  "language_info": {
   "codemirror_mode": {
    "name": "ipython",
    "version": 2
   },
   "file_extension": ".py",
   "mimetype": "text/x-python",
   "name": "python",
   "nbconvert_exporter": "python",
   "pygments_lexer": "ipython2",
   "version": "2.7.6"
  }
 },
 "nbformat": 4,
 "nbformat_minor": 0
}